{
  "nbformat": 4,
  "nbformat_minor": 0,
  "metadata": {
    "accelerator": "GPU",
    "colab": {
      "name": "Copy of RNN-based Decoder for Convolutional Codes.ipynb",
      "provenance": [],
      "collapsed_sections": []
    },
    "kernelspec": {
      "display_name": "Python 3",
      "language": "python",
      "name": "python3"
    },
    "language_info": {
      "codemirror_mode": {
        "name": "ipython",
        "version": 3
      },
      "file_extension": ".py",
      "mimetype": "text/x-python",
      "name": "python",
      "nbconvert_exporter": "python",
      "pygments_lexer": "ipython3",
      "version": "3.6.8"
    },
    "varInspector": {
      "cols": {
        "lenName": 16,
        "lenType": 16,
        "lenVar": 40
      },
      "kernels_config": {
        "python": {
          "delete_cmd_postfix": "",
          "delete_cmd_prefix": "del ",
          "library": "var_list.py",
          "varRefreshCmd": "print(var_dic_list())"
        },
        "r": {
          "delete_cmd_postfix": ") ",
          "delete_cmd_prefix": "rm(",
          "library": "var_list.r",
          "varRefreshCmd": "cat(var_dic_list()) "
        }
      },
      "oldHeight": 654.4,
      "position": {
        "height": "676px",
        "left": "714px",
        "right": "63px",
        "top": "-5px",
        "width": "800px"
      },
      "types_to_exclude": [
        "module",
        "function",
        "builtin_function_or_method",
        "instance",
        "_Feature"
      ],
      "varInspector_section_display": "block",
      "window_display": false
    }
  },
  "cells": [
    {
      "cell_type": "markdown",
      "metadata": {
        "id": "xFHXWn4HnIA2"
      },
      "source": [
        "# On Recurrent Neural Networks for Sequence-based Processing in Communications\n",
        "## In this notebook we show how to build a decoder for convolutional codes based on recurrent neural networks\n",
        "Accompanying code of paper [\"On Recurrent Neural Networks for Sequence-based Processing in Communications\" by Daniel Tandler, Sebastian Dörner, Sebastian Cammerer, Stephan ten Brink](https://ieeexplore.ieee.org/document/9048728)\n",
        "\n",
        "If you find this code helpful please cite this work using the following bibtex entry:\n",
        "\n",
        "```tex\n",
        "@article{RNN-Conv-Decoding-Tandler2019,\n",
        "  author    = {Daniel Tandler and\n",
        "               Sebastian D{\\\"{o}}rner and\n",
        "               Sebastian Cammerer and\n",
        "               Stephan ten Brink},\n",
        "  booktitle = {2019 53rd Asilomar Conference on Signals, Systems, and Computers},\n",
        "  title     = {On Recurrent Neural Networks for Sequence-based Processing in Communications},\n",
        "  year      = {2019},\n",
        "  pages     = {537-543}\n",
        "}\n",
        "```"
      ]
    },
    {
      "cell_type": "code",
      "source": [
        "# downgrading numpy to not run into error with tf1's cudnngru\n",
        "!pip3 install numpy==1.19.2"
      ],
      "metadata": {
        "colab": {
          "base_uri": "https://localhost:8080/"
        },
        "id": "bCqo_Me1BAUe",
        "outputId": "8014e8e8-70c5-4c38-b37e-a4f88d4ea905"
      },
      "execution_count": 1,
      "outputs": [
        {
          "output_type": "stream",
          "name": "stdout",
          "text": [
            "Looking in indexes: https://pypi.org/simple, https://us-python.pkg.dev/colab-wheels/public/simple/\n",
            "Requirement already satisfied: numpy==1.19.2 in /usr/local/lib/python3.7/dist-packages (1.19.2)\n"
          ]
        }
      ]
    },
    {
      "cell_type": "code",
      "metadata": {
        "id": "QEy0wTWmvk71",
        "colab": {
          "base_uri": "https://localhost:8080/"
        },
        "outputId": "e94acd5f-3a1c-4fea-b3d7-b69df3c3faf4"
      },
      "source": [
        "# magic command to use TF 1.X in colaboraty when importing tensorflow\n",
        "%tensorflow_version 1.x \n",
        "import tensorflow as tf                       # imports the tensorflow library to the python kernel\n",
        "tf.logging.set_verbosity(tf.logging.ERROR)    # sets the amount of debug information from TF (INFO, WARNING, ERROR)\n",
        "\n",
        "print(\"Using tensorflow version:\", tf.__version__)"
      ],
      "execution_count": 2,
      "outputs": [
        {
          "output_type": "stream",
          "name": "stdout",
          "text": [
            "TensorFlow 1.x selected.\n",
            "Using tensorflow version: 1.15.2\n"
          ]
        }
      ]
    },
    {
      "cell_type": "code",
      "metadata": {
        "id": "o0V_CfUbnIBB",
        "colab": {
          "base_uri": "https://localhost:8080/"
        },
        "outputId": "72fc5df0-40ce-4bea-f21f-327b4b75c68d"
      },
      "source": [
        "import tensorflow as tf\n",
        "import numpy as np\n",
        "print(\"numpy version:\",np.__version__)\n",
        "import matplotlib.pyplot as plt"
      ],
      "execution_count": 3,
      "outputs": [
        {
          "output_type": "stream",
          "name": "stdout",
          "text": [
            "numpy version: 1.19.2\n"
          ]
        }
      ]
    },
    {
      "cell_type": "markdown",
      "metadata": {
        "id": "Lwaxsc7YnIBY"
      },
      "source": [
        "# Code Setup\n",
        "\n",
        "We first set up a code class that holds all necessary parameters and provides functions to quickly generate large samples of encoded bits.\n",
        "\n",
        "For this notebook, <b>only code examples for memory 1,2,4 and 6 are provided</b>.\n",
        "\n",
        "To generate other convolutional codes check out the accompanying coding.py which uses [CommPy](https://github.com/veeresht/CommPy) to generate arbitray codes."
      ]
    },
    {
      "cell_type": "code",
      "metadata": {
        "id": "rz8aiownnIBc"
      },
      "source": [
        "class code:\n",
        "    def __init__(self,m):\n",
        "        self.m = m # Number of delay elements in the convolutional encoder\n",
        "        self.tb_depth = 5*(self.m + 1) # Traceback depth of the decoder\n",
        "        self.code_rate = 0.5\n",
        "        if m == 1:\n",
        "            self.d1 = 0o1\n",
        "            self.d2 = 0o3\n",
        "            self.impulse_response = np.array([0, 1, 1, 1])\n",
        "            self.viterbi_reference = np.array([7.293792e-02,5.801720e-02,4.490250e-02,3.349593e-02,2.429049e-02,1.684274e-02,1.124068e-02,7.277303e-03,4.354604e-03,2.546695e-03,1.382015e-03,7.138968e-04])\n",
        "        elif m == 2:\n",
        "            self.d1 = 0o5\n",
        "            self.d2 = 0o7\n",
        "            self.impulse_response = np.array([1, 1, 0, 1, 1, 1])\n",
        "            self.viterbi_reference = np.array([9.278817e-02,6.424232e-02,4.195904e-02,2.531590e-02,1.424276e-02,7.385386e-03,3.617080e-03,1.526589e-03,6.319029e-04,2.502278e-04,7.633503e-05,2.566724e-05])\n",
        "        elif m == 4:\n",
        "            self.d1 = 0o23\n",
        "            self.d2 = 0o35\n",
        "            self.impulse_response = np.array([1, 1, 0, 1, 0, 1, 1, 0, 1, 1])\n",
        "            self.viterbi_reference = np.array([1.266374e-01,7.990744e-02,4.546113e-02,2.301058e-02,1.045569e-02,4.220632e-03,1.526512e-03,5.214676e-04,1.482288e-04,3.666830e-05,7.778123e-06,1.444509e-06])\n",
        "        elif m == 6:\n",
        "            self.d1 = 0o133\n",
        "            self.d2 = 0o171\n",
        "            self.impulse_response = np.array([1, 1, 0, 1, 1, 1, 1, 1, 0, 0, 1, 0, 1, 1])\n",
        "            self.viterbi_reference = np.array([1.547330e-01,8.593706e-02,3.985466e-02,1.544436e-02,5.221681e-03,1.378203e-03,3.501900e-04,8.042758e-05,1.676778e-05,2.989088e-06,3.444674e-07,np.NaN])\n",
        "        else:\n",
        "            print(\"Code not available!\")\n",
        "    \n",
        "    def zero_pad(self,u):\n",
        "        return np.reshape(np.stack([u,np.zeros_like(u)],axis=1),(-1,))\n",
        "    \n",
        "    def encode_sequence(self,u,terminate=False):\n",
        "        if terminate:\n",
        "            return np.convolve(self.zero_pad(u),self.impulse_response,mode='full')[:-1] % 2\n",
        "        else:\n",
        "            return np.convolve(self.zero_pad(u),self.impulse_response,mode='full')[:len(u)*2] % 2\n",
        "    \n",
        "    def encode_batch(self,u,terminate=False):\n",
        "        x0 = self.encode_sequence(u[0],terminate)\n",
        "        x = np.empty((u.shape[0],x0.shape[0]),dtype=np.int8)\n",
        "        x[0] = x0\n",
        "        for i in range(len(u)-1):\n",
        "            x[i+1] = self.encode_sequence(u[i+1],terminate)\n",
        "        return x"
      ],
      "execution_count": 4,
      "outputs": []
    },
    {
      "cell_type": "markdown",
      "metadata": {
        "id": "h7CbqjGjnIBp"
      },
      "source": [
        "### Our SNR definition"
      ]
    },
    {
      "cell_type": "code",
      "metadata": {
        "id": "H4AoHWSOnIBu"
      },
      "source": [
        "def ebnodb2std(ebnodb, coderate=1):\n",
        "    ebno = 10**(ebnodb/10)\n",
        "    return (1/np.sqrt(2*coderate*ebno)).astype(np.float32)"
      ],
      "execution_count": 5,
      "outputs": []
    },
    {
      "cell_type": "markdown",
      "metadata": {
        "id": "q8NToLOvnIB6"
      },
      "source": [
        "### Choose which Convolutional you want to use"
      ]
    },
    {
      "cell_type": "code",
      "metadata": {
        "id": "MLNYe-pKnIB-"
      },
      "source": [
        "#code = code(m=1) # memory 1 rate 0.5 code with generator polynomials 0o1 and 0o3 (octal)\n",
        "#code = code(m=2) # memory 2 rate 0.5 code with generator polynomials 0o5 and 0o7 (octal)\n",
        "#code = code(m=4) # memory 4 rate 0.5 code with generator polynomials 0o23 and 0o35 (octal)\n",
        "code = code(m=6) # memory 6 rate 0.5 code with generator polynomials 0o133 and 0o171 (octal)"
      ],
      "execution_count": 6,
      "outputs": []
    },
    {
      "cell_type": "markdown",
      "metadata": {
        "id": "vHxCyjidnICJ"
      },
      "source": [
        "## Parameters"
      ]
    },
    {
      "cell_type": "code",
      "metadata": {
        "id": "sYiAZ51CnICN",
        "colab": {
          "base_uri": "https://localhost:8080/"
        },
        "outputId": "f38cf17c-cd15-4612-cf3d-b222bb72ea1b"
      },
      "source": [
        "model_name = \"%s%sm%s_Model\"  % (oct(code.d1),oct(code.d2),code.m)\n",
        "saver_path = \"trained_models/\"+model_name\n",
        "\n",
        "gradient_depth = code.tb_depth\n",
        "additional_input = 0\n",
        "decision_offset = int(len(code.impulse_response)/2)\n",
        "sequence_length = 15\n",
        "\n",
        "rnn_layers = 3\n",
        "rnn_units_per_layer = 256\n",
        "dense_layers = [16]\n",
        "\n",
        "print(\"Code Rate:\", code.code_rate)\n",
        "print(\"RNN layers:\", rnn_layers)\n",
        "print(\"Units per layer:\", rnn_units_per_layer)\n",
        "print(\"Gradient depth:\", gradient_depth)\n",
        "print(\"ConvCode traceback length thump rule:\",code.tb_depth)"
      ],
      "execution_count": 7,
      "outputs": [
        {
          "output_type": "stream",
          "name": "stdout",
          "text": [
            "Code Rate: 0.5\n",
            "RNN layers: 3\n",
            "Units per layer: 256\n",
            "Gradient depth: 35\n",
            "ConvCode traceback length thump rule: 35\n"
          ]
        }
      ]
    },
    {
      "cell_type": "markdown",
      "metadata": {
        "id": "pgCc5a_DnICZ"
      },
      "source": [
        "## Tensorflow Graph"
      ]
    },
    {
      "cell_type": "code",
      "metadata": {
        "id": "Y8vm-YG3nICc"
      },
      "source": [
        "graph = tf.Graph()\n",
        "with graph.as_default():\n",
        "    \n",
        "    # Encoded Sequence Input\n",
        "    x = tf.placeholder(tf.float32,shape=[2*gradient_depth+sequence_length,None,2*(1+2*additional_input)],name=\"coded_sequence\")\n",
        "    \n",
        "    # Decoding\n",
        "    multi_rnn_cell = tf.contrib.cudnn_rnn.CudnnGRU(rnn_layers,rnn_units_per_layer,direction='bidirectional')\n",
        "    multi_rnn_cell.build(input_shape=[2*gradient_depth+sequence_length,None,(1+2*additional_input)*2])\n",
        "\n",
        "    out,(new_state,) = multi_rnn_cell(x)\n",
        "    \n",
        "    out_sequence = out[gradient_depth:gradient_depth+sequence_length,:,:]\n",
        "    \n",
        "    # final dense layers:\n",
        "    for size in dense_layers:\n",
        "        out_sequence = tf.layers.dense(out_sequence,size,activation=tf.nn.relu)\n",
        "    u_hat = tf.layers.dense(out_sequence,1,activation=tf.nn.sigmoid)\n",
        "    \n",
        "    u_hat = tf.squeeze(u_hat)\n",
        "    \n",
        "    u_hat_bits = tf.cast(tf.greater(u_hat,0.5),tf.int8)\n",
        "    \n",
        "    \n",
        "    # Loss function\n",
        "    u_label = tf.placeholder(tf.int8,shape=[sequence_length,None],name=\"uncoded_bits\")\n",
        "    loss = tf.losses.log_loss(labels=u_label,predictions=u_hat)\n",
        "    correct_predictions = tf.equal(u_hat_bits, u_label)\n",
        "    ber = 1.0 - tf.reduce_mean(tf.cast(correct_predictions, tf.float32),axis=1)\n",
        "\n",
        "\n",
        "    # Training\n",
        "    lr = tf.placeholder(tf.float32, shape=[])\n",
        "    optimizer = tf.train.RMSPropOptimizer(lr)\n",
        "    step = optimizer.minimize(loss)\n",
        "    \n",
        "    # Init\n",
        "    init = tf.global_variables_initializer()\n",
        "    \n",
        "    # Saver\n",
        "    saver = tf.train.Saver()"
      ],
      "execution_count": 8,
      "outputs": []
    },
    {
      "cell_type": "markdown",
      "metadata": {
        "id": "wFhX5TfMnICo"
      },
      "source": [
        "### Let's print all trainable variables of the graph we just defined:\n",
        "Note that special CudnnGRU layers generate some kind of \"sub\"-graph and therefore their variables are not shown here but in a so called opaque_kernel."
      ]
    },
    {
      "cell_type": "code",
      "metadata": {
        "id": "TKjS78WEnICr",
        "colab": {
          "base_uri": "https://localhost:8080/"
        },
        "outputId": "4fed0087-504a-4df6-d58b-32f27ba907b4"
      },
      "source": [
        "def model_summary(for_graph): #from TensorFlow slim.model_analyzer.analyze_vars source\n",
        "    print(\"{:60}{:21}{:14}{:>17}\".format('Name','Shape','Variables','Size'))\n",
        "    print('{:-<112}'.format(''))\n",
        "    total_size = 0\n",
        "    total_bytes = 0\n",
        "    for var in for_graph.get_collection(tf.GraphKeys.TRAINABLE_VARIABLES):\n",
        "        # if var.num_elements() is None or [] assume size 0.\n",
        "        var_shape = var.get_shape()\n",
        "        var_size = var.get_shape().num_elements() or 0\n",
        "        var_bytes = var_size * var.dtype.size\n",
        "        total_size += var_size\n",
        "        total_bytes += var_bytes\n",
        "        print(\"{:60}{:21}{:14}{:>11} bytes\".format(var.name, str(var_shape), str(var_size), var_bytes))\n",
        "    print()\n",
        "    print('\\033[1mTotal number of variables:\\t{}\\033[0m'.format(total_size))\n",
        "    print('\\033[1mTotal bytes of variables:\\t{}\\033[0m'.format(total_bytes))\n",
        "\n",
        "model_summary(graph)"
      ],
      "execution_count": 9,
      "outputs": [
        {
          "output_type": "stream",
          "name": "stdout",
          "text": [
            "Name                                                        Shape                Variables                  Size\n",
            "----------------------------------------------------------------------------------------------------------------\n",
            "cudnn_gru/opaque_kernel:0                                   <unknown>            0                       0 bytes\n",
            "dense/kernel:0                                              (512, 16)            8192                32768 bytes\n",
            "dense/bias:0                                                (16,)                16                     64 bytes\n",
            "dense_1/kernel:0                                            (16, 1)              16                     64 bytes\n",
            "dense_1/bias:0                                              (1,)                 1                       4 bytes\n",
            "\n",
            "\u001b[1mTotal number of variables:\t8225\u001b[0m\n",
            "\u001b[1mTotal bytes of variables:\t32900\u001b[0m\n"
          ]
        }
      ]
    },
    {
      "cell_type": "markdown",
      "metadata": {
        "id": "LP8nLUmKnIC2"
      },
      "source": [
        "## Generator function\n",
        "Let's define a generatior function that first generates a large dataset pair of bit sequences and encoded bit sequences.\n",
        "\n",
        "In a second step, this functions slices those datasets in shorter snippets which are then fed to the NN decoder."
      ]
    },
    {
      "cell_type": "code",
      "metadata": {
        "id": "Caj6X4x1nIC5"
      },
      "source": [
        "def generator(batch_size,iterations,gradient_depth,sequence_length,additional_input,decision_offset,sigma,apriori):\n",
        "    offset = code.tb_depth + 3\n",
        "    full_uncoded_sequences = np.random.randint(0,100,[batch_size,iterations+2*gradient_depth+sequence_length+offset+2*additional_input],dtype=np.int8)\n",
        "    full_uncoded_sequences = np.less(full_uncoded_sequences,np.array([apriori*100],dtype=np.int8)).astype(np.int8)\n",
        "    full_coded_sequences = code.encode_batch(full_uncoded_sequences)\n",
        "    full_coded_sequences = np.reshape(full_coded_sequences,[batch_size,-1,int(1/code.code_rate)])\n",
        "    \n",
        "    # Feeding\n",
        "    for i in range(iterations):\n",
        "        encoded_sequences = full_coded_sequences[:,offset+i:offset+i+2*gradient_depth+sequence_length+2*additional_input,:]\n",
        "        labels = full_uncoded_sequences[:,offset+i+gradient_depth+additional_input+decision_offset:offset+i+gradient_depth+additional_input+decision_offset+sequence_length]\n",
        "        \n",
        "        # BPSK Modulation\n",
        "        modulated_sequences = (encoded_sequences.astype(np.float32) - 0.5) * 2.0\n",
        "\n",
        "        # AWGN\n",
        "        noise = np.random.normal(size=modulated_sequences.shape).astype(np.float32)\n",
        "        noised_sequences = modulated_sequences + noise * sigma\n",
        "        \n",
        "        # Input Processing\n",
        "        stack_array = []\n",
        "        for k in range(2*gradient_depth+sequence_length):\n",
        "            stack_array.append(noised_sequences[:,k:k+2*additional_input+1,:])\n",
        "        input_x = np.stack(stack_array,axis=1)\n",
        "        input_x = np.reshape(input_x,newshape=[batch_size,sequence_length+2*gradient_depth,(1+2*additional_input)*2])\n",
        "\n",
        "        # Transpose dimensions 1 and 0 because CudnnGRU layers need [time,batch,input] feeding\n",
        "        input_x = np.transpose(input_x,axes=[1,0,2])\n",
        "        input_labels = np.transpose(labels,axes=[1,0])\n",
        "        \n",
        "        yield input_x,input_labels"
      ],
      "execution_count": 10,
      "outputs": []
    },
    {
      "cell_type": "markdown",
      "metadata": {
        "id": "uVX0fZaTnIDF"
      },
      "source": [
        "## Starting a tensorflow session\n",
        "We create a session for the previously defined graph and save the initial state of the graph in training_stage 0"
      ]
    },
    {
      "cell_type": "code",
      "metadata": {
        "id": "eyffvGZ9nIDH",
        "colab": {
          "base_uri": "https://localhost:8080/",
          "height": 35
        },
        "outputId": "b6850dad-3d33-4415-dea6-2095e8dcf36a"
      },
      "source": [
        "sess_config = tf.ConfigProto()\n",
        "#sess_config.gpu_options.per_process_gpu_memory_fraction = 0.3   # to limit the amount of GPU memory usage\n",
        "sess_config.gpu_options.allow_growth = True\n",
        "sess = tf.Session(graph=graph, config=sess_config)\n",
        "sess.run(init)\n",
        "\n",
        "trained_stages = 0\n",
        "saver.save(sess,saver_path,global_step=trained_stages)"
      ],
      "execution_count": 11,
      "outputs": [
        {
          "output_type": "execute_result",
          "data": {
            "text/plain": [
              "'trained_models/0o1330o171m6_Model-0'"
            ],
            "application/vnd.google.colaboratory.intrinsic+json": {
              "type": "string"
            }
          },
          "metadata": {},
          "execution_count": 11
        }
      ]
    },
    {
      "cell_type": "markdown",
      "metadata": {
        "id": "sy0m9X_nnIDR"
      },
      "source": [
        "## Auxiliary functions"
      ]
    },
    {
      "cell_type": "code",
      "metadata": {
        "id": "3Ihe8ZHonIDU"
      },
      "source": [
        "# generates a python dictionary linking numpy feeds to tensorflow tensors\n",
        "def gen_feed_dict(x_feed, u_feed, lr_feed=1e-3):\n",
        "    feed_dict = {\n",
        "        x: x_feed,\n",
        "        u_label: u_feed,\n",
        "        lr: lr_feed,\n",
        "    }\n",
        "    return feed_dict\n",
        "\n",
        "# runs a single batch to predict u_hat and calculate the BER\n",
        "def test_step(x_feed, u_feed):\n",
        "    return sess.run(ber,feed_dict=gen_feed_dict(x_feed,u_feed))\n",
        "\n",
        "# runs a monte carlo simulation of several test steps to get meaningful BERs\n",
        "def test(test_parameters, plot=False, plot_baseline=False, ber_at_time=int(sequence_length/2)):\n",
        "    test_sigma = ebnodb2std(test_parameters['ebnodb'],code.code_rate)\n",
        "    ber = np.zeros([len(test_parameters['ebnodb']),sequence_length])\n",
        "    for i in range(len(test_sigma)):\n",
        "        for x_feed,u_feed in generator(test_parameters['batch_size'],test_parameters['iterations'],gradient_depth,sequence_length,additional_input,decision_offset,test_sigma[i],0.5):\n",
        "            curr_ber  = test_step(x_feed, u_feed)\n",
        "            ber[i] += curr_ber\n",
        "        # logging\n",
        "        print(\"SNR:\",test_parameters['ebnodb'][i])\n",
        "        print(\"BER:\",ber[i]/test_parameters['iterations'])\n",
        "    ber = ber/test_parameters['iterations']\n",
        "    print(\"Final BER:\",ber)\n",
        "    if (plot):\n",
        "        plot_bler_vs_ebnodb(test_parameters['ebnodb'], ber[:,ber_at_time], plot_baseline)\n",
        "    return ber\n",
        "\n",
        "# runs a single training step\n",
        "def train_step(x_feed,u_feed,lr_feed):\n",
        "    return sess.run([step,loss,ber],feed_dict=gen_feed_dict(x_feed,u_feed,lr_feed))\n",
        "    \n",
        "# runs a training set according to training_params\n",
        "def train(training_params):\n",
        "    global trained_stages\n",
        "    pl = training_params['learning']\n",
        "    #early_stopping = training_params['early_stopping']\n",
        "    for epoch in pl:\n",
        "        # learning params\n",
        "        batch_size = epoch[0]\n",
        "        iterations = epoch[1]\n",
        "        learning_rate = epoch[2]\n",
        "        ebnodb = epoch[3]\n",
        "        apriori = epoch[4]\n",
        "        train_sigma = ebnodb2std(ebnodb,code.code_rate)\n",
        "        # logging\n",
        "        logging_interval = int(iterations/10)\n",
        "        logging_it_counter = 0\n",
        "        logging_interval_loss = 0.0\n",
        "        logging_interval_ber = np.zeros([sequence_length])\n",
        "        \n",
        "        print(\"\\nTraining Epoch - Batch Size: %d, Iterations: %d, Learning Rate: %.4f, EbNodB %.1f (std: %.3f), P_apriori %.2f\" % (batch_size,iterations,learning_rate,ebnodb,train_sigma,apriori))\n",
        "        # training\n",
        "        for x_feed,u_feed in generator(batch_size,iterations,gradient_depth,sequence_length,additional_input,decision_offset,train_sigma,apriori):\n",
        "            _,curr_loss,curr_ber = train_step(x_feed,u_feed,learning_rate)\n",
        "            # logging\n",
        "            logging_interval_loss += curr_loss\n",
        "            logging_interval_ber += curr_ber\n",
        "            logging_it_counter += 1\n",
        "\n",
        "            if logging_it_counter%logging_interval == 0:\n",
        "                #if early_stopping and previous_logging_interval_loss < logging_interval_loss:\n",
        "                #    print(\"\")\n",
        "\n",
        "                print(\"      Iteration %d to %d - Avg. Loss: %.3E   Avg. BER: %.3E   Min. @ BER[%d]=%.3E\" % (logging_it_counter-logging_interval,\n",
        "                                                                                 logging_it_counter,\n",
        "                                                                                 logging_interval_loss/logging_interval,\n",
        "                                                                                 np.mean(logging_interval_ber/logging_interval),\n",
        "                                                                                 np.argmin(logging_interval_ber/logging_interval),\n",
        "                                                                                 np.min(logging_interval_ber/logging_interval)))\n",
        "                logging_interval_loss = 0.0\n",
        "                logging_interval_ber = 0.0\n",
        "        \n",
        "        # save weights\n",
        "        trained_stages += 1\n",
        "        saver.save(sess,saver_path,global_step=trained_stages)\n",
        "        print(\"      -> saved as training stage: %s-%d\" % (model_name,trained_stages))\n",
        "\n",
        "# plots a BER curve\n",
        "def plot_bler_vs_ebnodb(ebnodb, ber, baseline=False):\n",
        "    image = plt.figure(figsize=(12,6))\n",
        "    plt.plot(ebnodb, ber, '-o')\n",
        "    if baseline:\n",
        "        plt.plot(ebnodb, baseline_ber, '--')\n",
        "        plt.legend(['RNN Decoder', 'Viterbi Decoder']);\n",
        "    plt.yscale('log')\n",
        "    plt.xlabel('EbNo (dB)', fontsize=16)\n",
        "    plt.ylabel('Bit-error rate', fontsize=16)"
      ],
      "execution_count": 12,
      "outputs": []
    },
    {
      "cell_type": "markdown",
      "metadata": {
        "id": "2nLozXmgnIDd"
      },
      "source": [
        "## Training\n",
        "Let's define training parameters and begin with the training.\n",
        "\n",
        "Notice that we use so called a priori ramp-up training [1].\n",
        "That is, setting the a priori probability of either ones or zeros in bit vector u to a small value and later, in subsequent training epochs, raising it up till 0.5 where ones and zeros are uniformly distributed again."
      ]
    },
    {
      "cell_type": "code",
      "metadata": {
        "id": "DYsTNnVvnIDg"
      },
      "source": [
        "train_snr_db = 1.5\n",
        "training_params = {\n",
        "    'learning' : [ #batch_size, iterations, learning_rate, training_ebnodb, apriori\n",
        "                [100,   1000, 0.001,  train_snr_db, 0.01],\n",
        "                [100,   1000, 0.001,  train_snr_db, 0.1],\n",
        "                [100,   1000, 0.001,  train_snr_db, 0.2],\n",
        "                [100,   1000, 0.001,  train_snr_db, 0.3],\n",
        "                [100,   1000, 0.001,  train_snr_db, 0.4],\n",
        "                [100,   500000, 0.0001,  train_snr_db, 0.5],\n",
        "                [500,   100000,  0.0001,  train_snr_db, 0.5],\n",
        "                [1000,  50000,  0.0001,  train_snr_db, 0.5],\n",
        "                [2000,  50000,  0.0001,  train_snr_db, 0.5],\n",
        "               ]\n",
        "}"
      ],
      "execution_count": 13,
      "outputs": []
    },
    {
      "cell_type": "code",
      "metadata": {
        "id": "60hOY8pGnIDp",
        "colab": {
          "base_uri": "https://localhost:8080/",
          "height": 1000
        },
        "outputId": "479f02b3-0c1c-4ad7-8ed0-1974759e441e"
      },
      "source": [
        "train(training_params)"
      ],
      "execution_count": 14,
      "outputs": [
        {
          "output_type": "stream",
          "name": "stdout",
          "text": [
            "\n",
            "Training Epoch - Batch Size: 100, Iterations: 1000, Learning Rate: 0.0010, EbNodB 1.5 (std: 0.841), P_apriori 0.01\n",
            "      Iteration 0 to 100 - Avg. Loss: 2.168E-01   Avg. BER: 1.960E-02   Min. @ BER[14]=1.820E-02\n",
            "      Iteration 100 to 200 - Avg. Loss: 4.481E-02   Avg. BER: 1.110E-02   Min. @ BER[3]=1.020E-02\n",
            "      Iteration 200 to 300 - Avg. Loss: 2.168E-02   Avg. BER: 9.087E-03   Min. @ BER[0]=8.700E-03\n",
            "      Iteration 300 to 400 - Avg. Loss: 2.077E-02   Avg. BER: 1.069E-02   Min. @ BER[6]=1.040E-02\n",
            "      Iteration 400 to 500 - Avg. Loss: 1.726E-02   Avg. BER: 8.720E-03   Min. @ BER[13]=8.200E-03\n",
            "      Iteration 500 to 600 - Avg. Loss: 1.409E-02   Avg. BER: 5.440E-03   Min. @ BER[7]=3.600E-03\n",
            "      Iteration 600 to 700 - Avg. Loss: 7.269E-03   Avg. BER: 2.087E-03   Min. @ BER[5]=1.600E-03\n",
            "      Iteration 700 to 800 - Avg. Loss: 6.081E-03   Avg. BER: 1.820E-03   Min. @ BER[2]=1.300E-03\n",
            "      Iteration 800 to 900 - Avg. Loss: 4.063E-03   Avg. BER: 1.260E-03   Min. @ BER[6]=8.000E-04\n",
            "      Iteration 900 to 1000 - Avg. Loss: 1.967E-03   Avg. BER: 6.600E-04   Min. @ BER[10]=3.000E-04\n",
            "      -> saved as training stage: 0o1330o171m6_Model-1\n",
            "\n",
            "Training Epoch - Batch Size: 100, Iterations: 1000, Learning Rate: 0.0010, EbNodB 1.5 (std: 0.841), P_apriori 0.10\n",
            "      Iteration 0 to 100 - Avg. Loss: 1.519E-01   Avg. BER: 6.061E-02   Min. @ BER[4]=5.730E-02\n",
            "      Iteration 100 to 200 - Avg. Loss: 1.139E-01   Avg. BER: 4.728E-02   Min. @ BER[2]=4.320E-02\n",
            "      Iteration 200 to 300 - Avg. Loss: 9.829E-02   Avg. BER: 4.007E-02   Min. @ BER[0]=3.650E-02\n",
            "      Iteration 300 to 400 - Avg. Loss: 7.084E-02   Avg. BER: 2.793E-02   Min. @ BER[1]=2.380E-02\n",
            "      Iteration 400 to 500 - Avg. Loss: 5.512E-02   Avg. BER: 2.075E-02   Min. @ BER[5]=1.790E-02\n",
            "      Iteration 500 to 600 - Avg. Loss: 4.875E-02   Avg. BER: 1.853E-02   Min. @ BER[0]=1.540E-02\n",
            "      Iteration 600 to 700 - Avg. Loss: 5.106E-02   Avg. BER: 1.949E-02   Min. @ BER[0]=1.540E-02\n",
            "      Iteration 700 to 800 - Avg. Loss: 4.781E-02   Avg. BER: 1.792E-02   Min. @ BER[0]=1.440E-02\n",
            "      Iteration 800 to 900 - Avg. Loss: 4.288E-02   Avg. BER: 1.667E-02   Min. @ BER[1]=1.220E-02\n",
            "      Iteration 900 to 1000 - Avg. Loss: 4.000E-02   Avg. BER: 1.522E-02   Min. @ BER[3]=1.200E-02\n",
            "      -> saved as training stage: 0o1330o171m6_Model-2\n",
            "\n",
            "Training Epoch - Batch Size: 100, Iterations: 1000, Learning Rate: 0.0010, EbNodB 1.5 (std: 0.841), P_apriori 0.20\n",
            "      Iteration 0 to 100 - Avg. Loss: 1.995E-01   Avg. BER: 8.715E-02   Min. @ BER[0]=7.990E-02\n",
            "      Iteration 100 to 200 - Avg. Loss: 1.838E-01   Avg. BER: 7.964E-02   Min. @ BER[0]=7.010E-02\n",
            "      Iteration 200 to 300 - Avg. Loss: 1.764E-01   Avg. BER: 7.613E-02   Min. @ BER[0]=6.960E-02\n",
            "      Iteration 300 to 400 - Avg. Loss: 1.582E-01   Avg. BER: 6.832E-02   Min. @ BER[3]=6.040E-02\n",
            "      Iteration 400 to 500 - Avg. Loss: 1.508E-01   Avg. BER: 6.343E-02   Min. @ BER[0]=5.520E-02\n",
            "      Iteration 500 to 600 - Avg. Loss: 1.463E-01   Avg. BER: 6.268E-02   Min. @ BER[2]=5.650E-02\n",
            "      Iteration 600 to 700 - Avg. Loss: 1.455E-01   Avg. BER: 6.221E-02   Min. @ BER[0]=5.070E-02\n",
            "      Iteration 700 to 800 - Avg. Loss: 1.361E-01   Avg. BER: 5.781E-02   Min. @ BER[0]=5.190E-02\n",
            "      Iteration 800 to 900 - Avg. Loss: 1.379E-01   Avg. BER: 5.850E-02   Min. @ BER[0]=5.270E-02\n",
            "      Iteration 900 to 1000 - Avg. Loss: 1.389E-01   Avg. BER: 5.840E-02   Min. @ BER[2]=5.300E-02\n",
            "      -> saved as training stage: 0o1330o171m6_Model-3\n",
            "\n",
            "Training Epoch - Batch Size: 100, Iterations: 1000, Learning Rate: 0.0010, EbNodB 1.5 (std: 0.841), P_apriori 0.30\n",
            "      Iteration 0 to 100 - Avg. Loss: 3.464E-01   Avg. BER: 1.693E-01   Min. @ BER[0]=1.521E-01\n",
            "      Iteration 100 to 200 - Avg. Loss: 3.178E-01   Avg. BER: 1.538E-01   Min. @ BER[0]=1.445E-01\n",
            "      Iteration 200 to 300 - Avg. Loss: 3.141E-01   Avg. BER: 1.505E-01   Min. @ BER[0]=1.394E-01\n",
            "      Iteration 300 to 400 - Avg. Loss: 3.154E-01   Avg. BER: 1.534E-01   Min. @ BER[1]=1.452E-01\n",
            "      Iteration 400 to 500 - Avg. Loss: 3.079E-01   Avg. BER: 1.483E-01   Min. @ BER[3]=1.389E-01\n",
            "      Iteration 500 to 600 - Avg. Loss: 3.123E-01   Avg. BER: 1.508E-01   Min. @ BER[0]=1.375E-01\n",
            "      Iteration 600 to 700 - Avg. Loss: 2.892E-01   Avg. BER: 1.386E-01   Min. @ BER[1]=1.267E-01\n",
            "      Iteration 700 to 800 - Avg. Loss: 2.950E-01   Avg. BER: 1.413E-01   Min. @ BER[2]=1.317E-01\n",
            "      Iteration 800 to 900 - Avg. Loss: 2.759E-01   Avg. BER: 1.323E-01   Min. @ BER[1]=1.236E-01\n",
            "      Iteration 900 to 1000 - Avg. Loss: 2.751E-01   Avg. BER: 1.343E-01   Min. @ BER[0]=1.246E-01\n",
            "      -> saved as training stage: 0o1330o171m6_Model-4\n",
            "\n",
            "Training Epoch - Batch Size: 100, Iterations: 1000, Learning Rate: 0.0010, EbNodB 1.5 (std: 0.841), P_apriori 0.40\n",
            "      Iteration 0 to 100 - Avg. Loss: 5.074E-01   Avg. BER: 2.843E-01   Min. @ BER[1]=2.710E-01\n",
            "      Iteration 100 to 200 - Avg. Loss: 4.780E-01   Avg. BER: 2.661E-01   Min. @ BER[1]=2.488E-01\n",
            "      Iteration 200 to 300 - Avg. Loss: 5.105E-01   Avg. BER: 2.867E-01   Min. @ BER[0]=2.677E-01\n",
            "      Iteration 300 to 400 - Avg. Loss: 4.990E-01   Avg. BER: 2.801E-01   Min. @ BER[0]=2.573E-01\n",
            "      Iteration 400 to 500 - Avg. Loss: 4.972E-01   Avg. BER: 2.794E-01   Min. @ BER[0]=2.627E-01\n",
            "      Iteration 500 to 600 - Avg. Loss: 4.795E-01   Avg. BER: 2.658E-01   Min. @ BER[0]=2.501E-01\n",
            "      Iteration 600 to 700 - Avg. Loss: 4.837E-01   Avg. BER: 2.711E-01   Min. @ BER[2]=2.534E-01\n",
            "      Iteration 700 to 800 - Avg. Loss: 4.583E-01   Avg. BER: 2.494E-01   Min. @ BER[0]=2.356E-01\n",
            "      Iteration 800 to 900 - Avg. Loss: 4.650E-01   Avg. BER: 2.541E-01   Min. @ BER[1]=2.361E-01\n",
            "      Iteration 900 to 1000 - Avg. Loss: 4.607E-01   Avg. BER: 2.525E-01   Min. @ BER[1]=2.432E-01\n",
            "      -> saved as training stage: 0o1330o171m6_Model-5\n",
            "\n",
            "Training Epoch - Batch Size: 100, Iterations: 500000, Learning Rate: 0.0001, EbNodB 1.5 (std: 0.841), P_apriori 0.50\n"
          ]
        },
        {
          "output_type": "error",
          "ename": "KeyboardInterrupt",
          "evalue": "ignored",
          "traceback": [
            "\u001b[0;31m---------------------------------------------------------------------------\u001b[0m",
            "\u001b[0;31mKeyboardInterrupt\u001b[0m                         Traceback (most recent call last)",
            "\u001b[0;32m<ipython-input-14-66d307680d61>\u001b[0m in \u001b[0;36m<module>\u001b[0;34m()\u001b[0m\n\u001b[0;32m----> 1\u001b[0;31m \u001b[0mtrain\u001b[0m\u001b[0;34m(\u001b[0m\u001b[0mtraining_params\u001b[0m\u001b[0;34m)\u001b[0m\u001b[0;34m\u001b[0m\u001b[0;34m\u001b[0m\u001b[0m\n\u001b[0m",
            "\u001b[0;32m<ipython-input-12-514fa5601640>\u001b[0m in \u001b[0;36mtrain\u001b[0;34m(training_params)\u001b[0m\n\u001b[1;32m     55\u001b[0m         \u001b[0;31m# training\u001b[0m\u001b[0;34m\u001b[0m\u001b[0;34m\u001b[0m\u001b[0;34m\u001b[0m\u001b[0m\n\u001b[1;32m     56\u001b[0m         \u001b[0;32mfor\u001b[0m \u001b[0mx_feed\u001b[0m\u001b[0;34m,\u001b[0m\u001b[0mu_feed\u001b[0m \u001b[0;32min\u001b[0m \u001b[0mgenerator\u001b[0m\u001b[0;34m(\u001b[0m\u001b[0mbatch_size\u001b[0m\u001b[0;34m,\u001b[0m\u001b[0miterations\u001b[0m\u001b[0;34m,\u001b[0m\u001b[0mgradient_depth\u001b[0m\u001b[0;34m,\u001b[0m\u001b[0msequence_length\u001b[0m\u001b[0;34m,\u001b[0m\u001b[0madditional_input\u001b[0m\u001b[0;34m,\u001b[0m\u001b[0mdecision_offset\u001b[0m\u001b[0;34m,\u001b[0m\u001b[0mtrain_sigma\u001b[0m\u001b[0;34m,\u001b[0m\u001b[0mapriori\u001b[0m\u001b[0;34m)\u001b[0m\u001b[0;34m:\u001b[0m\u001b[0;34m\u001b[0m\u001b[0;34m\u001b[0m\u001b[0m\n\u001b[0;32m---> 57\u001b[0;31m             \u001b[0m_\u001b[0m\u001b[0;34m,\u001b[0m\u001b[0mcurr_loss\u001b[0m\u001b[0;34m,\u001b[0m\u001b[0mcurr_ber\u001b[0m \u001b[0;34m=\u001b[0m \u001b[0mtrain_step\u001b[0m\u001b[0;34m(\u001b[0m\u001b[0mx_feed\u001b[0m\u001b[0;34m,\u001b[0m\u001b[0mu_feed\u001b[0m\u001b[0;34m,\u001b[0m\u001b[0mlearning_rate\u001b[0m\u001b[0;34m)\u001b[0m\u001b[0;34m\u001b[0m\u001b[0;34m\u001b[0m\u001b[0m\n\u001b[0m\u001b[1;32m     58\u001b[0m             \u001b[0;31m# logging\u001b[0m\u001b[0;34m\u001b[0m\u001b[0;34m\u001b[0m\u001b[0;34m\u001b[0m\u001b[0m\n\u001b[1;32m     59\u001b[0m             \u001b[0mlogging_interval_loss\u001b[0m \u001b[0;34m+=\u001b[0m \u001b[0mcurr_loss\u001b[0m\u001b[0;34m\u001b[0m\u001b[0;34m\u001b[0m\u001b[0m\n",
            "\u001b[0;32m<ipython-input-12-514fa5601640>\u001b[0m in \u001b[0;36mtrain_step\u001b[0;34m(x_feed, u_feed, lr_feed)\u001b[0m\n\u001b[1;32m     31\u001b[0m \u001b[0;31m# runs a single training step\u001b[0m\u001b[0;34m\u001b[0m\u001b[0;34m\u001b[0m\u001b[0;34m\u001b[0m\u001b[0m\n\u001b[1;32m     32\u001b[0m \u001b[0;32mdef\u001b[0m \u001b[0mtrain_step\u001b[0m\u001b[0;34m(\u001b[0m\u001b[0mx_feed\u001b[0m\u001b[0;34m,\u001b[0m\u001b[0mu_feed\u001b[0m\u001b[0;34m,\u001b[0m\u001b[0mlr_feed\u001b[0m\u001b[0;34m)\u001b[0m\u001b[0;34m:\u001b[0m\u001b[0;34m\u001b[0m\u001b[0;34m\u001b[0m\u001b[0m\n\u001b[0;32m---> 33\u001b[0;31m     \u001b[0;32mreturn\u001b[0m \u001b[0msess\u001b[0m\u001b[0;34m.\u001b[0m\u001b[0mrun\u001b[0m\u001b[0;34m(\u001b[0m\u001b[0;34m[\u001b[0m\u001b[0mstep\u001b[0m\u001b[0;34m,\u001b[0m\u001b[0mloss\u001b[0m\u001b[0;34m,\u001b[0m\u001b[0mber\u001b[0m\u001b[0;34m]\u001b[0m\u001b[0;34m,\u001b[0m\u001b[0mfeed_dict\u001b[0m\u001b[0;34m=\u001b[0m\u001b[0mgen_feed_dict\u001b[0m\u001b[0;34m(\u001b[0m\u001b[0mx_feed\u001b[0m\u001b[0;34m,\u001b[0m\u001b[0mu_feed\u001b[0m\u001b[0;34m,\u001b[0m\u001b[0mlr_feed\u001b[0m\u001b[0;34m)\u001b[0m\u001b[0;34m)\u001b[0m\u001b[0;34m\u001b[0m\u001b[0;34m\u001b[0m\u001b[0m\n\u001b[0m\u001b[1;32m     34\u001b[0m \u001b[0;34m\u001b[0m\u001b[0m\n\u001b[1;32m     35\u001b[0m \u001b[0;31m# runs a training set according to training_params\u001b[0m\u001b[0;34m\u001b[0m\u001b[0;34m\u001b[0m\u001b[0;34m\u001b[0m\u001b[0m\n",
            "\u001b[0;32m/tensorflow-1.15.2/python3.7/tensorflow_core/python/client/session.py\u001b[0m in \u001b[0;36mrun\u001b[0;34m(self, fetches, feed_dict, options, run_metadata)\u001b[0m\n\u001b[1;32m    954\u001b[0m     \u001b[0;32mtry\u001b[0m\u001b[0;34m:\u001b[0m\u001b[0;34m\u001b[0m\u001b[0;34m\u001b[0m\u001b[0m\n\u001b[1;32m    955\u001b[0m       result = self._run(None, fetches, feed_dict, options_ptr,\n\u001b[0;32m--> 956\u001b[0;31m                          run_metadata_ptr)\n\u001b[0m\u001b[1;32m    957\u001b[0m       \u001b[0;32mif\u001b[0m \u001b[0mrun_metadata\u001b[0m\u001b[0;34m:\u001b[0m\u001b[0;34m\u001b[0m\u001b[0;34m\u001b[0m\u001b[0m\n\u001b[1;32m    958\u001b[0m         \u001b[0mproto_data\u001b[0m \u001b[0;34m=\u001b[0m \u001b[0mtf_session\u001b[0m\u001b[0;34m.\u001b[0m\u001b[0mTF_GetBuffer\u001b[0m\u001b[0;34m(\u001b[0m\u001b[0mrun_metadata_ptr\u001b[0m\u001b[0;34m)\u001b[0m\u001b[0;34m\u001b[0m\u001b[0;34m\u001b[0m\u001b[0m\n",
            "\u001b[0;32m/tensorflow-1.15.2/python3.7/tensorflow_core/python/client/session.py\u001b[0m in \u001b[0;36m_run\u001b[0;34m(self, handle, fetches, feed_dict, options, run_metadata)\u001b[0m\n\u001b[1;32m   1178\u001b[0m     \u001b[0;32mif\u001b[0m \u001b[0mfinal_fetches\u001b[0m \u001b[0;32mor\u001b[0m \u001b[0mfinal_targets\u001b[0m \u001b[0;32mor\u001b[0m \u001b[0;34m(\u001b[0m\u001b[0mhandle\u001b[0m \u001b[0;32mand\u001b[0m \u001b[0mfeed_dict_tensor\u001b[0m\u001b[0;34m)\u001b[0m\u001b[0;34m:\u001b[0m\u001b[0;34m\u001b[0m\u001b[0;34m\u001b[0m\u001b[0m\n\u001b[1;32m   1179\u001b[0m       results = self._do_run(handle, final_targets, final_fetches,\n\u001b[0;32m-> 1180\u001b[0;31m                              feed_dict_tensor, options, run_metadata)\n\u001b[0m\u001b[1;32m   1181\u001b[0m     \u001b[0;32melse\u001b[0m\u001b[0;34m:\u001b[0m\u001b[0;34m\u001b[0m\u001b[0;34m\u001b[0m\u001b[0m\n\u001b[1;32m   1182\u001b[0m       \u001b[0mresults\u001b[0m \u001b[0;34m=\u001b[0m \u001b[0;34m[\u001b[0m\u001b[0;34m]\u001b[0m\u001b[0;34m\u001b[0m\u001b[0;34m\u001b[0m\u001b[0m\n",
            "\u001b[0;32m/tensorflow-1.15.2/python3.7/tensorflow_core/python/client/session.py\u001b[0m in \u001b[0;36m_do_run\u001b[0;34m(self, handle, target_list, fetch_list, feed_dict, options, run_metadata)\u001b[0m\n\u001b[1;32m   1357\u001b[0m     \u001b[0;32mif\u001b[0m \u001b[0mhandle\u001b[0m \u001b[0;32mis\u001b[0m \u001b[0;32mNone\u001b[0m\u001b[0;34m:\u001b[0m\u001b[0;34m\u001b[0m\u001b[0;34m\u001b[0m\u001b[0m\n\u001b[1;32m   1358\u001b[0m       return self._do_call(_run_fn, feeds, fetches, targets, options,\n\u001b[0;32m-> 1359\u001b[0;31m                            run_metadata)\n\u001b[0m\u001b[1;32m   1360\u001b[0m     \u001b[0;32melse\u001b[0m\u001b[0;34m:\u001b[0m\u001b[0;34m\u001b[0m\u001b[0;34m\u001b[0m\u001b[0m\n\u001b[1;32m   1361\u001b[0m       \u001b[0;32mreturn\u001b[0m \u001b[0mself\u001b[0m\u001b[0;34m.\u001b[0m\u001b[0m_do_call\u001b[0m\u001b[0;34m(\u001b[0m\u001b[0m_prun_fn\u001b[0m\u001b[0;34m,\u001b[0m \u001b[0mhandle\u001b[0m\u001b[0;34m,\u001b[0m \u001b[0mfeeds\u001b[0m\u001b[0;34m,\u001b[0m \u001b[0mfetches\u001b[0m\u001b[0;34m)\u001b[0m\u001b[0;34m\u001b[0m\u001b[0;34m\u001b[0m\u001b[0m\n",
            "\u001b[0;32m/tensorflow-1.15.2/python3.7/tensorflow_core/python/client/session.py\u001b[0m in \u001b[0;36m_do_call\u001b[0;34m(self, fn, *args)\u001b[0m\n\u001b[1;32m   1363\u001b[0m   \u001b[0;32mdef\u001b[0m \u001b[0m_do_call\u001b[0m\u001b[0;34m(\u001b[0m\u001b[0mself\u001b[0m\u001b[0;34m,\u001b[0m \u001b[0mfn\u001b[0m\u001b[0;34m,\u001b[0m \u001b[0;34m*\u001b[0m\u001b[0margs\u001b[0m\u001b[0;34m)\u001b[0m\u001b[0;34m:\u001b[0m\u001b[0;34m\u001b[0m\u001b[0;34m\u001b[0m\u001b[0m\n\u001b[1;32m   1364\u001b[0m     \u001b[0;32mtry\u001b[0m\u001b[0;34m:\u001b[0m\u001b[0;34m\u001b[0m\u001b[0;34m\u001b[0m\u001b[0m\n\u001b[0;32m-> 1365\u001b[0;31m       \u001b[0;32mreturn\u001b[0m \u001b[0mfn\u001b[0m\u001b[0;34m(\u001b[0m\u001b[0;34m*\u001b[0m\u001b[0margs\u001b[0m\u001b[0;34m)\u001b[0m\u001b[0;34m\u001b[0m\u001b[0;34m\u001b[0m\u001b[0m\n\u001b[0m\u001b[1;32m   1366\u001b[0m     \u001b[0;32mexcept\u001b[0m \u001b[0merrors\u001b[0m\u001b[0;34m.\u001b[0m\u001b[0mOpError\u001b[0m \u001b[0;32mas\u001b[0m \u001b[0me\u001b[0m\u001b[0;34m:\u001b[0m\u001b[0;34m\u001b[0m\u001b[0;34m\u001b[0m\u001b[0m\n\u001b[1;32m   1367\u001b[0m       \u001b[0mmessage\u001b[0m \u001b[0;34m=\u001b[0m \u001b[0mcompat\u001b[0m\u001b[0;34m.\u001b[0m\u001b[0mas_text\u001b[0m\u001b[0;34m(\u001b[0m\u001b[0me\u001b[0m\u001b[0;34m.\u001b[0m\u001b[0mmessage\u001b[0m\u001b[0;34m)\u001b[0m\u001b[0;34m\u001b[0m\u001b[0;34m\u001b[0m\u001b[0m\n",
            "\u001b[0;32m/tensorflow-1.15.2/python3.7/tensorflow_core/python/client/session.py\u001b[0m in \u001b[0;36m_run_fn\u001b[0;34m(feed_dict, fetch_list, target_list, options, run_metadata)\u001b[0m\n\u001b[1;32m   1348\u001b[0m       \u001b[0mself\u001b[0m\u001b[0;34m.\u001b[0m\u001b[0m_extend_graph\u001b[0m\u001b[0;34m(\u001b[0m\u001b[0;34m)\u001b[0m\u001b[0;34m\u001b[0m\u001b[0;34m\u001b[0m\u001b[0m\n\u001b[1;32m   1349\u001b[0m       return self._call_tf_sessionrun(options, feed_dict, fetch_list,\n\u001b[0;32m-> 1350\u001b[0;31m                                       target_list, run_metadata)\n\u001b[0m\u001b[1;32m   1351\u001b[0m \u001b[0;34m\u001b[0m\u001b[0m\n\u001b[1;32m   1352\u001b[0m     \u001b[0;32mdef\u001b[0m \u001b[0m_prun_fn\u001b[0m\u001b[0;34m(\u001b[0m\u001b[0mhandle\u001b[0m\u001b[0;34m,\u001b[0m \u001b[0mfeed_dict\u001b[0m\u001b[0;34m,\u001b[0m \u001b[0mfetch_list\u001b[0m\u001b[0;34m)\u001b[0m\u001b[0;34m:\u001b[0m\u001b[0;34m\u001b[0m\u001b[0;34m\u001b[0m\u001b[0m\n",
            "\u001b[0;32m/tensorflow-1.15.2/python3.7/tensorflow_core/python/client/session.py\u001b[0m in \u001b[0;36m_call_tf_sessionrun\u001b[0;34m(self, options, feed_dict, fetch_list, target_list, run_metadata)\u001b[0m\n\u001b[1;32m   1441\u001b[0m     return tf_session.TF_SessionRun_wrapper(self._session, options, feed_dict,\n\u001b[1;32m   1442\u001b[0m                                             \u001b[0mfetch_list\u001b[0m\u001b[0;34m,\u001b[0m \u001b[0mtarget_list\u001b[0m\u001b[0;34m,\u001b[0m\u001b[0;34m\u001b[0m\u001b[0;34m\u001b[0m\u001b[0m\n\u001b[0;32m-> 1443\u001b[0;31m                                             run_metadata)\n\u001b[0m\u001b[1;32m   1444\u001b[0m \u001b[0;34m\u001b[0m\u001b[0m\n\u001b[1;32m   1445\u001b[0m   \u001b[0;32mdef\u001b[0m \u001b[0m_call_tf_sessionprun\u001b[0m\u001b[0;34m(\u001b[0m\u001b[0mself\u001b[0m\u001b[0;34m,\u001b[0m \u001b[0mhandle\u001b[0m\u001b[0;34m,\u001b[0m \u001b[0mfeed_dict\u001b[0m\u001b[0;34m,\u001b[0m \u001b[0mfetch_list\u001b[0m\u001b[0;34m)\u001b[0m\u001b[0;34m:\u001b[0m\u001b[0;34m\u001b[0m\u001b[0;34m\u001b[0m\u001b[0m\n",
            "\u001b[0;31mKeyboardInterrupt\u001b[0m: "
          ]
        }
      ]
    },
    {
      "cell_type": "markdown",
      "metadata": {
        "id": "S2jKzN85nIDx"
      },
      "source": [
        "## Restoring already trained models\n",
        "Since we used the tensorflow saver after each training epoch, we can load already trained models and then evaluate"
      ]
    },
    {
      "cell_type": "code",
      "metadata": {
        "id": "R5_apwuCnID1"
      },
      "source": [
        "#saver.restore(sess,\"%s-%d\" % (saver_path,9))"
      ],
      "execution_count": 15,
      "outputs": []
    },
    {
      "cell_type": "markdown",
      "metadata": {
        "id": "ODSuWtQWnID9"
      },
      "source": [
        "## Evaluation: Monte Carlo BER simulation"
      ]
    },
    {
      "cell_type": "code",
      "metadata": {
        "id": "0ulrSB8gnIEA",
        "colab": {
          "base_uri": "https://localhost:8080/"
        },
        "outputId": "a79ef38a-81a8-49d9-c64b-e24c9a5cb280"
      },
      "source": [
        "test_parameters = {\n",
        "    'batch_size' : 2000,\n",
        "    'iterations' : 100,\n",
        "    'ebnodb' : np.arange(0,5.6,0.5)\n",
        "}\n",
        "sim_ber = test(test_parameters,plot=False,plot_baseline=False)"
      ],
      "execution_count": 16,
      "outputs": [
        {
          "output_type": "stream",
          "name": "stdout",
          "text": [
            "SNR: 0.0\n",
            "BER: [0.45576  0.457    0.4558   0.455955 0.45695  0.45717  0.45542  0.45647\n",
            " 0.457045 0.455375 0.45677  0.45647  0.45766  0.45634  0.45731 ]\n",
            "SNR: 0.5\n",
            "BER: [0.44117  0.44179  0.43963  0.43956  0.43945  0.43944  0.43984  0.439545\n",
            " 0.44075  0.44156  0.4421   0.44107  0.44037  0.44228  0.44171 ]\n",
            "SNR: 1.0\n",
            "BER: [0.42144  0.4202   0.42042  0.421925 0.421415 0.42074  0.42227  0.42213\n",
            " 0.422155 0.42186  0.42179  0.422345 0.42302  0.423785 0.42311 ]\n",
            "SNR: 1.5\n",
            "BER: [0.398795 0.400125 0.39785  0.397695 0.39824  0.399015 0.39951  0.398105\n",
            " 0.40013  0.39963  0.398385 0.400075 0.40104  0.39912  0.39943 ]\n",
            "SNR: 2.0\n",
            "BER: [0.371985   0.37340001 0.37313    0.373795   0.373295   0.373975\n",
            " 0.374525   0.37428    0.37472    0.37539    0.375845   0.374815\n",
            " 0.376405   0.375295   0.3757    ]\n",
            "SNR: 2.5\n",
            "BER: [0.34763  0.34754  0.34817  0.347765 0.348205 0.34797  0.34716  0.346935\n",
            " 0.348895 0.348965 0.350425 0.349585 0.350415 0.35102  0.3515  ]\n",
            "SNR: 3.0\n",
            "BER: [0.318415 0.31746  0.317815 0.31865  0.31829  0.318725 0.319555 0.319345\n",
            " 0.31983  0.319635 0.32059  0.32066  0.322305 0.321975 0.322405]\n",
            "SNR: 3.5\n",
            "BER: [0.292285 0.2923   0.2931   0.293585 0.292635 0.29359  0.293415 0.29419\n",
            " 0.29523  0.295885 0.29455  0.29592  0.297125 0.298355 0.298075]\n",
            "SNR: 4.0\n",
            "BER: [0.27332  0.272845 0.27345  0.27313  0.27271  0.27439  0.2748   0.273955\n",
            " 0.27474  0.27544  0.27759  0.27654  0.277185 0.278665 0.280505]\n",
            "SNR: 4.5\n",
            "BER: [0.25164  0.25231  0.251455 0.25138  0.252965 0.253595 0.25241  0.252215\n",
            " 0.25412  0.25438  0.255165 0.25613  0.256195 0.257295 0.258125]\n",
            "SNR: 5.0\n",
            "BER: [0.23532  0.236625 0.235905 0.23755  0.2362   0.23742  0.237885 0.237495\n",
            " 0.23814  0.23905  0.239465 0.240705 0.24107  0.242395 0.242365]\n",
            "SNR: 5.5\n",
            "BER: [0.21717    0.21814    0.21866    0.21848    0.217555   0.218565\n",
            " 0.219365   0.219425   0.22072499 0.221625   0.222785   0.22249\n",
            " 0.22271    0.22363    0.225355  ]\n",
            "Final BER: [[0.45576    0.457      0.4558     0.455955   0.45695    0.45717\n",
            "  0.45542    0.45647    0.457045   0.455375   0.45677    0.45647\n",
            "  0.45766    0.45634    0.45731   ]\n",
            " [0.44117    0.44179    0.43963    0.43956    0.43945    0.43944\n",
            "  0.43984    0.439545   0.44075    0.44156    0.4421     0.44107\n",
            "  0.44037    0.44228    0.44171   ]\n",
            " [0.42144    0.4202     0.42042    0.421925   0.421415   0.42074\n",
            "  0.42227    0.42213    0.422155   0.42186    0.42179    0.422345\n",
            "  0.42302    0.423785   0.42311   ]\n",
            " [0.398795   0.400125   0.39785    0.397695   0.39824    0.399015\n",
            "  0.39951    0.398105   0.40013    0.39963    0.398385   0.400075\n",
            "  0.40104    0.39912    0.39943   ]\n",
            " [0.371985   0.37340001 0.37313    0.373795   0.373295   0.373975\n",
            "  0.374525   0.37428    0.37472    0.37539    0.375845   0.374815\n",
            "  0.376405   0.375295   0.3757    ]\n",
            " [0.34763    0.34754    0.34817    0.347765   0.348205   0.34797\n",
            "  0.34716    0.346935   0.348895   0.348965   0.350425   0.349585\n",
            "  0.350415   0.35102    0.3515    ]\n",
            " [0.318415   0.31746    0.317815   0.31865    0.31829    0.318725\n",
            "  0.319555   0.319345   0.31983    0.319635   0.32059    0.32066\n",
            "  0.322305   0.321975   0.322405  ]\n",
            " [0.292285   0.2923     0.2931     0.293585   0.292635   0.29359\n",
            "  0.293415   0.29419    0.29523    0.295885   0.29455    0.29592\n",
            "  0.297125   0.298355   0.298075  ]\n",
            " [0.27332    0.272845   0.27345    0.27313    0.27271    0.27439\n",
            "  0.2748     0.273955   0.27474    0.27544    0.27759    0.27654\n",
            "  0.277185   0.278665   0.280505  ]\n",
            " [0.25164    0.25231    0.251455   0.25138    0.252965   0.253595\n",
            "  0.25241    0.252215   0.25412    0.25438    0.255165   0.25613\n",
            "  0.256195   0.257295   0.258125  ]\n",
            " [0.23532    0.236625   0.235905   0.23755    0.2362     0.23742\n",
            "  0.237885   0.237495   0.23814    0.23905    0.239465   0.240705\n",
            "  0.24107    0.242395   0.242365  ]\n",
            " [0.21717    0.21814    0.21866    0.21848    0.217555   0.218565\n",
            "  0.219365   0.219425   0.22072499 0.221625   0.222785   0.22249\n",
            "  0.22271    0.22363    0.225355  ]]\n"
          ]
        }
      ]
    },
    {
      "cell_type": "code",
      "metadata": {
        "id": "qDuKGcjUnIEI",
        "colab": {
          "base_uri": "https://localhost:8080/",
          "height": 393
        },
        "outputId": "c48acfce-b0ec-41c0-f9e7-f9dd05b5dacf"
      },
      "source": [
        "plot_bler_vs_ebnodb(test_parameters['ebnodb'], sim_ber[:,0])\n",
        "plt.plot(np.arange(0,5.6,0.5),code.viterbi_reference)\n",
        "plt.ylim(1e-6,0.5)\n",
        "plt.grid()\n",
        "plt.legend(['RNN-Decoder','Viterbi reference'])\n",
        "plt.show();"
      ],
      "execution_count": 17,
      "outputs": [
        {
          "output_type": "display_data",
          "data": {
            "text/plain": [
              "<Figure size 864x432 with 1 Axes>"
            ],
            "image/png": "[encoded data removed]"
          },
          "metadata": {
            "needs_background": "light"
          }
        }
      ]
    },
    {
      "cell_type": "code",
      "metadata": {
        "id": "TWgUOTgynIEQ"
      },
      "source": [
        ""
      ],
      "execution_count": null,
      "outputs": []
    }
  ]
}